{
 "cells": [
  {
   "cell_type": "markdown",
   "metadata": {},
   "source": [
    "# Named Entity Recognition\n",
    "\n",
    "We can get the parts of speech of a sentence using POS tagging. Similarly, using NLTK we can get something like __Named Entity Tags__. Eg: Person, place, Money value, etc.\n",
    "\n",
    "![](images/13.png)"
   ]
  },
  {
   "cell_type": "raw",
   "metadata": {},
   "source": [
    "sentence=\"The Eiffel Tower was built from 1887 to 1889 by French engineer Gustave Eiffel, whose company specialized in building metal frameworks and structures.\"\n",
    "\"\"\"\n",
    "Person Eg: Krish C Naik\n",
    "Place Or Location Eg: India\n",
    "Date Eg: September,24-09-1989\n",
    "Time  Eg: 4:30pm\n",
    "Money Eg: 1 million dollar\n",
    "Organization Eg: iNeuron Private Limited\n",
    "Percent Eg: 20%, twenty percent\n",
    "\"\"\""
   ]
  },
  {
   "cell_type": "code",
   "execution_count": 1,
   "metadata": {},
   "outputs": [],
   "source": [
    "sentence=\"The Eiffel Tower was built from 1887 to 1889 by Gustave Eiffel, whose company specialized in building metal frameworks and structures.\""
   ]
  },
  {
   "cell_type": "code",
   "execution_count": 2,
   "metadata": {},
   "outputs": [],
   "source": [
    "import nltk\n",
    "words=nltk.word_tokenize(sentence)"
   ]
  },
  {
   "cell_type": "code",
   "execution_count": 3,
   "metadata": {},
   "outputs": [
    {
     "data": {
      "text/plain": [
       "['The', 'Eiffel', 'Tower', 'was', 'built', 'from', '1887', 'to', '1889', 'by']"
      ]
     },
     "execution_count": 3,
     "metadata": {},
     "output_type": "execute_result"
    }
   ],
   "source": [
    "words[:10]"
   ]
  },
  {
   "cell_type": "code",
   "execution_count": 4,
   "metadata": {},
   "outputs": [
    {
     "data": {
      "text/plain": [
       "[('The', 'DT'),\n",
       " ('Eiffel', 'NNP'),\n",
       " ('Tower', 'NNP'),\n",
       " ('was', 'VBD'),\n",
       " ('built', 'VBN'),\n",
       " ('from', 'IN'),\n",
       " ('1887', 'CD'),\n",
       " ('to', 'TO'),\n",
       " ('1889', 'CD'),\n",
       " ('by', 'IN')]"
      ]
     },
     "execution_count": 4,
     "metadata": {},
     "output_type": "execute_result"
    }
   ],
   "source": [
    "tag_elements=nltk.pos_tag(words)\n",
    "tag_elements[:10]"
   ]
  },
  {
   "cell_type": "code",
   "execution_count": 6,
   "metadata": {},
   "outputs": [],
   "source": [
    "# nltk.download('maxent_ne_chunker')"
   ]
  },
  {
   "cell_type": "code",
   "execution_count": 7,
   "metadata": {},
   "outputs": [],
   "source": [
    "# nltk.download('words')"
   ]
  },
  {
   "cell_type": "markdown",
   "metadata": {},
   "source": [
    "`nltk.ne_chunk()` used for Named Entity tagging."
   ]
  },
  {
   "cell_type": "code",
   "execution_count": 5,
   "metadata": {},
   "outputs": [],
   "source": [
    "nltk.ne_chunk(tag_elements).draw()"
   ]
  },
  {
   "cell_type": "markdown",
   "metadata": {},
   "source": [
    "On running the above code, we get this pop-up window (the kernel will keep on running till this pop-up window is not closed).\n",
    "\n",
    "![](images\\12.png)"
   ]
  },
  {
   "cell_type": "markdown",
   "metadata": {},
   "source": [
    "## Named Entity Recognition Explained\n",
    "__Named Entity Recognition (NER)__ serves as a bridge between unstructured text and structured data, enabling machines to sift through vast amounts of textual information and extract nuggets of valuable data in categorized forms. By pinpointing specific entities within a sea of words, NER transforms the way we process and utilize textual data.\n",
    "\n",
    "#### Purpose \n",
    "NER's primary objective is to comb through unstructured text and identify specific chunks as named entities, subsequently classifying them into predefined categories. __This conversion of raw text into structured information makes data more actionable, facilitating tasks like data analysis, information retrieval, and knowledge graph construction__.\n",
    "\n",
    "#### How it works: \n",
    "The intricacies of NER can be broken down into several steps:\n",
    "\n",
    "1. __Tokenization:__ Before identifying entities, the text is split into tokens, which can be words, phrases, or even sentences. For instance, \"Steve Jobs co-founded Apple\" would be split into tokens like \"Steve\", \"Jobs\", \"co-founded\", \"Apple\".\n",
    "\n",
    "2. __Entity identification:__ Using various linguistic rules or statistical methods, potential named entities are detected. This involves recognizing patterns, such as capitalization in names (\"Steve Jobs\") or specific formats (like dates).\n",
    "\n",
    "3. __Entity classification:__ Once entities are identified, they are categorized into predefined classes such as \"Person\", \"Organization\", or \"Location\". This is often achieved using machine learning models trained on labeled datasets. For our example, \"Steve Jobs\" would be classified as a \"Person\" and \"Apple\" as an \"Organization\".\n",
    "\n",
    "4. __Contextual analysis:__ NER systems often consider the surrounding context to improve accuracy. For instance, in the sentence \"Apple released a new iPhone\", the context helps the system recognize \"Apple\" as an organization rather than a fruit.\n",
    "\n",
    "5. __Post-processing:__ After initial recognition and classification, post-processing might be applied to refine results. This could involve resolving ambiguities, merging multi-token entities, or using knowledge bases to enhance entity data.\n",
    "\n",
    "The beauty of NER lies in its ability to understand and interpret unstructured text, which constitutes a significant portion of the data in the digital world, from web pages and news articles to social media posts and research papers. By identifying and classifying named entities, NER adds a layer of structure and meaning to this vast textual landscape."
   ]
  },
  {
   "cell_type": "markdown",
   "metadata": {},
   "source": [
    "### Named Entity Recognition Methods\n",
    "Named Entity Recognition (NER) has seen many methods developed over the years, each tailored to address the unique challenges of extracting and categorizing named entities from vast textual landscapes.\n",
    "\n",
    "1. __Rule-based Methods__\n",
    "Rule-based methods are grounded in manually crafted rules. They identify and classify named entities based on linguistic patterns, regular expressions, or dictionaries. While they shine in specific domains where entities are well-defined, such as extracting standard medical terms from clinical notes, their scalability is limited. They might struggle with large or diverse datasets due to the rigidity of predefined rules.\n",
    "\n",
    "2. __Statistical Methods__\n",
    "Transitioning from manual rules, statistical methods employ models like Hidden Markov Models (HMM) or Conditional Random Fields (CRF). They predict named entities based on likelihoods derived from training data. These methods are apt for tasks with ample labeled datasets at their disposal. Their strength lies in generalizing across diverse texts, but they're only as good as the training data they're fed.\n",
    "\n",
    "3. __Machine Learning Methods__\n",
    "Machine learning methods take it a step further by using algorithms such as decision trees or support vector machines. They learn from labeled data to predict named entities. Their widespread adoption in modern NER systems is attributed to their prowess in handling vast datasets and intricate patterns. However, they're hungry for substantial labeled data and can be computationally demanding.\n",
    "\n",
    "4. __Deep Learning Methods__\n",
    "The latest in the line are deep learning methods, which harness the power of neural networks. Recurrent Neural Networks (RNN) and transformers have become the go-to for many due to their ability to model long-term dependencies in text. They're ideal for large-scale tasks with abundant training data but come with the caveat of requiring significant computational might.\n",
    "\n",
    "5. __Hybrid Methods__\n",
    "Lastly, there's no one-size-fits-all in NER, leading to the emergence of hybrid methods. These techniques intertwine rule-based, statistical, and machine learning approaches, aiming to capture the best of all worlds. They're especially valuable when extracting entities from diverse sources, offering the flexibility of multiple methods. However, their intertwined nature can make them complex to implement and maintain."
   ]
  },
  {
   "cell_type": "markdown",
   "metadata": {},
   "source": [
    "### Named Entity Recognition Use Cases\n",
    "NER has found applications across diverse sectors, transforming the way we extract and utilize information. Here's a glimpse into some of its pivotal applications:\n",
    "\n",
    "1. __News aggregation:__ NER is instrumental in categorizing news articles by the primary entities mentioned. This categorization aids readers in swiftly locating stories about specific people, places, or organizations, streamlining the news consumption process.\n",
    "\n",
    "2. __Customer support:__ Analyzing customer queries becomes more efficient with NER. Companies can swiftly pinpoint common issues related to specific products or services, ensuring that customer concerns are addressed promptly and effectively.\n",
    "\n",
    "3. __Research:__ For academics and researchers, NER is a boon. It allows them to scan vast volumes of text, identifying mentions of specific entities relevant to their studies. This automated extraction speeds up the research process and ensures comprehensive data analysis.\n",
    "\n",
    "4. __Legal document analysis:__ In the legal sector, sifting through lengthy documents to find relevant entities like names, dates, or locations can be tedious. NER automates this, making legal research and analysis more efficient."
   ]
  },
  {
   "cell_type": "markdown",
   "metadata": {},
   "source": [
    "Additional reading:\n",
    "\n",
    "1. [A Beginner’s Introduction to NER (Named Entity Recognition)](https://www.analyticsvidhya.com/blog/2021/11/a-beginners-introduction-to-ner-named-entity-recognition/)\n",
    "2. [What is Named Entity Recognition (NER)? Methods, Use Cases, and Challenges](https://www.datacamp.com/blog/what-is-named-entity-recognition-ner)\n",
    "3. [Named Entity Recognition](https://www.geeksforgeeks.org/named-entity-recognition/)"
   ]
  }
 ],
 "metadata": {
  "kernelspec": {
   "display_name": "Python 3",
   "language": "python",
   "name": "python3"
  },
  "language_info": {
   "codemirror_mode": {
    "name": "ipython",
    "version": 3
   },
   "file_extension": ".py",
   "mimetype": "text/x-python",
   "name": "python",
   "nbconvert_exporter": "python",
   "pygments_lexer": "ipython3",
   "version": "3.10.0"
  }
 },
 "nbformat": 4,
 "nbformat_minor": 4
}
