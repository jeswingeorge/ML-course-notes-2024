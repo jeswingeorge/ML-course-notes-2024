{
 "cells": [
  {
   "cell_type": "markdown",
   "metadata": {},
   "source": [
    "# Module: Exception Handling Assignments\n",
    "## Lesson: Exception Handling with try, except, and finally\n",
    "### Assignment 1: Handling Division by Zero\n",
    "\n",
    "Write a function that takes two integers as input and returns their division. Use try, except, and finally blocks to handle division by zero and print an appropriate message.\n"
   ]
  },
  {
   "cell_type": "code",
   "execution_count": 1,
   "metadata": {},
   "outputs": [],
   "source": [
    "def divide(a,b):\n",
    "    try:\n",
    "        result = a/b\n",
    "    except Exception as ex:\n",
    "        print(f\"Error: {ex}\")\n",
    "        result=None\n",
    "    finally:\n",
    "        print(\"Execution completed.\")\n",
    "    \n",
    "    return(f\"Result of division of {a}/{b} is: {result}\")\n",
    "    # return(result)\n",
    "\n",
    "    "
   ]
  },
  {
   "cell_type": "code",
   "execution_count": 2,
   "id": "094ece2a",
   "metadata": {},
   "outputs": [
    {
     "name": "stdout",
     "output_type": "stream",
     "text": [
      "Error: division by zero\n",
      "Execution completed.\n"
     ]
    },
    {
     "data": {
      "text/plain": [
       "'Result of division of 100/0 is: None'"
      ]
     },
     "execution_count": 2,
     "metadata": {},
     "output_type": "execute_result"
    }
   ],
   "source": [
    "divide(100,0)"
   ]
  },
  {
   "cell_type": "code",
   "execution_count": 3,
   "id": "f442380a",
   "metadata": {},
   "outputs": [
    {
     "name": "stdout",
     "output_type": "stream",
     "text": [
      "Execution completed.\n"
     ]
    },
    {
     "data": {
      "text/plain": [
       "'Result of division of 50/20 is: 2.5'"
      ]
     },
     "execution_count": 3,
     "metadata": {},
     "output_type": "execute_result"
    }
   ],
   "source": [
    "divide(50,20)"
   ]
  },
  {
   "cell_type": "markdown",
   "id": "53cddd36",
   "metadata": {},
   "source": [
    "### Assignment 2: File Reading with Exception Handling\n",
    "\n",
    "Write a function that reads the contents of a file named `data.txt`. Use try, except, and finally blocks to handle file not found errors and ensure the file is properly closed."
   ]
  },
  {
   "cell_type": "code",
   "execution_count": 4,
   "id": "0d37ebdf",
   "metadata": {},
   "outputs": [],
   "source": [
    "def read_file(filename):\n",
    "    try:\n",
    "        file = open(filename, 'r')\n",
    "        content = file.read()\n",
    "        return content\n",
    "    except FileNotFoundError as e:\n",
    "        print(f\"Error: {e}\")\n",
    "    finally:\n",
    "        try:\n",
    "            file.close()\n",
    "        except NameError:\n",
    "            pass\n"
   ]
  },
  {
   "cell_type": "code",
   "execution_count": 5,
   "id": "8f8d5471",
   "metadata": {},
   "outputs": [
    {
     "name": "stdout",
     "output_type": "stream",
     "text": [
      "Error: [Errno 2] No such file or directory: 'data.txt'\n",
      "None\n"
     ]
    }
   ],
   "source": [
    "# Test\n",
    "print(read_file('data.txt'))"
   ]
  },
  {
   "cell_type": "markdown",
   "id": "ddf4d68d",
   "metadata": {},
   "source": [
    "### Assignment 3: Handling Multiple Exceptions\n",
    "\n",
    "Write a function that takes a list of integers and returns their sum. Use try, except, and finally blocks to handle TypeError if a non-integer value is encountered and print an appropriate message."
   ]
  },
  {
   "cell_type": "code",
   "execution_count": 6,
   "id": "d9e77499",
   "metadata": {},
   "outputs": [],
   "source": [
    "def list_sum(t):\n",
    "    try:\n",
    "        total = 0\n",
    "        for num in t:\n",
    "            total+=int(num)\n",
    "    except Exception as ex:\n",
    "        print(f\"Inout list is {t}\")\n",
    "        print(f\"Error: {ex}\")\n",
    "        total = None\n",
    "    finally:\n",
    "        print(\"Execution completed\")\n",
    "    return(total)"
   ]
  },
  {
   "cell_type": "code",
   "execution_count": 7,
   "id": "a62f9cd9",
   "metadata": {},
   "outputs": [
    {
     "name": "stdout",
     "output_type": "stream",
     "text": [
      "Inout list is [1, 2, 3, 4, 5, 'A']\n",
      "Error: invalid literal for int() with base 10: 'A'\n",
      "Execution completed\n"
     ]
    }
   ],
   "source": [
    "list_sum([1,2,3,4,5,'A'])"
   ]
  },
  {
   "cell_type": "code",
   "execution_count": 8,
   "id": "6f309c69",
   "metadata": {},
   "outputs": [
    {
     "name": "stdout",
     "output_type": "stream",
     "text": [
      "Execution completed\n"
     ]
    },
    {
     "data": {
      "text/plain": [
       "21"
      ]
     },
     "execution_count": 8,
     "metadata": {},
     "output_type": "execute_result"
    }
   ],
   "source": [
    "list_sum([1,2,3,4,5,'6'])"
   ]
  },
  {
   "cell_type": "markdown",
   "id": "abf19bd3",
   "metadata": {},
   "source": [
    "### Assignment 4: Exception Handling in Dictionary Access\n",
    "\n",
    "Write a function that takes a dictionary and a key as input and returns the value associated with the key. Use try, except, and finally blocks to handle KeyError if the key is not found in the dictionary and print an appropriate message."
   ]
  },
  {
   "cell_type": "code",
   "execution_count": 9,
   "id": "f44a96ca",
   "metadata": {},
   "outputs": [],
   "source": [
    "def dict_key_value(trial_dict, key):\n",
    "    try:\n",
    "        val = trial_dict[key]\n",
    "        print(f\"Dictionary is: {trial_dict}\")\n",
    "    except KeyError as ex:  # If you Exception instead of KeyError you will get the same error message.\n",
    "        print(ex)\n",
    "        print(\"No value corresponding to this key\")\n",
    "        val = None\n",
    "    finally:\n",
    "        print(\"Execution completed\")\n",
    "    return(val)\n"
   ]
  },
  {
   "cell_type": "code",
   "execution_count": 10,
   "id": "bb766727",
   "metadata": {},
   "outputs": [
    {
     "name": "stdout",
     "output_type": "stream",
     "text": [
      "'Gambhir'\n",
      "No value corresponding to this key\n",
      "Execution completed\n"
     ]
    }
   ],
   "source": [
    "dict_key_value({'Dhoni':7, 'Sachin':10, 'Kohli':16}, 'Gambhir')"
   ]
  },
  {
   "cell_type": "code",
   "execution_count": 11,
   "id": "184925b0",
   "metadata": {},
   "outputs": [
    {
     "name": "stdout",
     "output_type": "stream",
     "text": [
      "Dictionary is: {'Dhoni': 7, 'Sachin': 10, 'Kohli': 16}\n",
      "Execution completed\n"
     ]
    },
    {
     "data": {
      "text/plain": [
       "7"
      ]
     },
     "execution_count": 11,
     "metadata": {},
     "output_type": "execute_result"
    }
   ],
   "source": [
    "dict_key_value({'Dhoni':7, 'Sachin':10, 'Kohli':16}, 'Dhoni')"
   ]
  },
  {
   "cell_type": "markdown",
   "id": "81ddb4b9",
   "metadata": {},
   "source": [
    "### Assignment 5: Nested Exception Handling\n",
    "\n",
    "Write a function that performs nested exception handling. It should first attempt to convert a string to an integer, and then attempt to divide by that integer. Use nested try, except, and finally blocks to handle ValueError and ZeroDivisionError and print appropriate messages."
   ]
  },
  {
   "cell_type": "code",
   "execution_count": 12,
   "id": "f25e6c03",
   "metadata": {},
   "outputs": [],
   "source": [
    "def divide_integers(num):\n",
    "    try:\n",
    "        try:\n",
    "            num = int(num)\n",
    "        except ValueError as ex1:\n",
    "            print(ex1)\n",
    "            num = None\n",
    "        finally:\n",
    "            print(\"Conversion step completed.\")\n",
    "        if num is not None:\n",
    "            try:\n",
    "                result = 1000/num\n",
    "            except ZeroDivisionError as ex2:\n",
    "                print(ex2)\n",
    "                result=None\n",
    "            finally:\n",
    "                print(\"Division attempt completed.\")\n",
    "                print(f\"Result of division is {result}.\")\n",
    "    finally:\n",
    "        print(\"Overall execution completed.\")\n",
    "\n",
    "\n"
   ]
  },
  {
   "cell_type": "code",
   "execution_count": 13,
   "id": "e97d0449",
   "metadata": {},
   "outputs": [
    {
     "name": "stdout",
     "output_type": "stream",
     "text": [
      "Conversion step completed.\n",
      "Division attempt completed.\n",
      "Result of division is 22.22222222222222.\n",
      "Overall execution completed.\n"
     ]
    }
   ],
   "source": [
    "divide_integers('45')"
   ]
  },
  {
   "cell_type": "code",
   "execution_count": 14,
   "id": "cc7d0856",
   "metadata": {},
   "outputs": [
    {
     "name": "stdout",
     "output_type": "stream",
     "text": [
      "invalid literal for int() with base 10: '4AB'\n",
      "Conversion step completed.\n",
      "Overall execution completed.\n"
     ]
    }
   ],
   "source": [
    "divide_integers('4AB')"
   ]
  },
  {
   "cell_type": "code",
   "execution_count": 15,
   "id": "47593039",
   "metadata": {},
   "outputs": [
    {
     "name": "stdout",
     "output_type": "stream",
     "text": [
      "Conversion step completed.\n",
      "division by zero\n",
      "Division attempt completed.\n",
      "Result of division is None.\n",
      "Overall execution completed.\n"
     ]
    }
   ],
   "source": [
    "divide_integers('0')"
   ]
  },
  {
   "cell_type": "markdown",
   "id": "7183a7be",
   "metadata": {},
   "source": [
    "### Assignment 6: Exception Handling in List Operations\n",
    "\n",
    "Write a function that takes a list and an index as input and returns the element at the given index. Use try, except, and finally blocks to handle IndexError if the index is out of range and print an appropriate message."
   ]
  },
  {
   "cell_type": "code",
   "execution_count": 16,
   "id": "6fa63afa",
   "metadata": {},
   "outputs": [],
   "source": [
    "def check_list_index(t, ind):\n",
    "    try:\n",
    "        val = t[ind]\n",
    "    except IndexError as ex:\n",
    "        print(ex)\n",
    "        val = None\n",
    "    except Exception as ex2:\n",
    "        print(ex2)\n",
    "        val = None\n",
    "    finally:\n",
    "        print(\"Execution Completed.\")\n",
    "    return(f\"Value after execution is: {val}.\")\n",
    "\n"
   ]
  },
  {
   "cell_type": "code",
   "execution_count": 17,
   "id": "1bcc925d",
   "metadata": {},
   "outputs": [
    {
     "name": "stdout",
     "output_type": "stream",
     "text": [
      "Execution Completed.\n"
     ]
    },
    {
     "data": {
      "text/plain": [
       "'Value after execution is: 89.'"
      ]
     },
     "execution_count": 17,
     "metadata": {},
     "output_type": "execute_result"
    }
   ],
   "source": [
    "check_list_index([1,2,4,7,89,34], -2)"
   ]
  },
  {
   "cell_type": "code",
   "execution_count": 18,
   "id": "8178e49a",
   "metadata": {},
   "outputs": [
    {
     "name": "stdout",
     "output_type": "stream",
     "text": [
      "list indices must be integers or slices, not str\n",
      "Execution Completed.\n"
     ]
    },
    {
     "data": {
      "text/plain": [
       "'Value after execution is: None.'"
      ]
     },
     "execution_count": 18,
     "metadata": {},
     "output_type": "execute_result"
    }
   ],
   "source": [
    "check_list_index([1,2,4,7,89,34], 'a')"
   ]
  },
  {
   "cell_type": "code",
   "execution_count": 19,
   "id": "22f35137",
   "metadata": {},
   "outputs": [
    {
     "name": "stdout",
     "output_type": "stream",
     "text": [
      "list index out of range\n",
      "Execution Completed.\n"
     ]
    },
    {
     "data": {
      "text/plain": [
       "'Value after execution is: None.'"
      ]
     },
     "execution_count": 19,
     "metadata": {},
     "output_type": "execute_result"
    }
   ],
   "source": [
    "check_list_index([1,2,4,7,89,34], 100)"
   ]
  },
  {
   "cell_type": "markdown",
   "id": "bb50f4bf",
   "metadata": {},
   "source": [
    "### Assignment 7: Exception Handling in JSON Parsing\n",
    "\n",
    "Write a function that attempts to parse a JSON string. Use try, except, and finally blocks to handle JSONDecodeError if the string is not a valid JSON and print an appropriate message."
   ]
  },
  {
   "cell_type": "code",
   "execution_count": 20,
   "id": "b2cd7d2c",
   "metadata": {},
   "outputs": [],
   "source": [
    "import json\n",
    "\n",
    "def parse_json(json_string):\n",
    "    try:\n",
    "        data = json.loads(json_string)\n",
    "        return data\n",
    "    except json.JSONDecodeError as e:\n",
    "        print(f\"JSON error: {e}\")\n",
    "        return None\n",
    "    finally:\n",
    "        print(\"Execution complete.\")"
   ]
  },
  {
   "cell_type": "code",
   "execution_count": 21,
   "id": "cf8b2279",
   "metadata": {},
   "outputs": [
    {
     "name": "stdout",
     "output_type": "stream",
     "text": [
      "Execution complete.\n",
      "{'name': 'John', 'age': 30}\n"
     ]
    }
   ],
   "source": [
    "print(parse_json('{\"name\": \"John\", \"age\": 30}'))  "
   ]
  },
  {
   "cell_type": "markdown",
   "id": "0b3e0078",
   "metadata": {},
   "source": [
    "Observe how the `return` statement in try comes after `finally` block. But `print` statement in `try` block as seen in earlier examples run first and then the `finally` block."
   ]
  },
  {
   "cell_type": "code",
   "execution_count": 22,
   "id": "64fefed5",
   "metadata": {},
   "outputs": [
    {
     "name": "stdout",
     "output_type": "stream",
     "text": [
      "JSON error: Expecting value: line 1 column 1 (char 0)\n",
      "Execution complete.\n",
      "None\n"
     ]
    }
   ],
   "source": [
    "print(parse_json('Invalid JSON'))"
   ]
  },
  {
   "cell_type": "markdown",
   "id": "568dfb04",
   "metadata": {},
   "source": [
    "### Assignment 8: Custom Exception Handling\n",
    "\n",
    "Define a custom exception named `NegativeNumberError`. Write a function that raises this exception if a negative number is encountered in a list. Use try, except, and finally blocks to handle the custom exception and print an appropriate message."
   ]
  },
  {
   "cell_type": "code",
   "execution_count": 23,
   "id": "cad76637",
   "metadata": {},
   "outputs": [],
   "source": [
    "class NegativeNumberError(Exception):\n",
    "    pass\n",
    "\n",
    "def check_for_negatives(t):\n",
    "    try:\n",
    "        for num in t:\n",
    "            if num<0:\n",
    "                raise NegativeNumberError(f\"Negative number found: {num}\")\n",
    "        print(\"No negative numbers found.\")\n",
    "    except NegativeNumberError as e:\n",
    "        print(f\"Error: {e}\")\n",
    "    except Exception as ex:\n",
    "        print(ex)\n",
    "    finally:\n",
    "        print(\"Execution completed!\")"
   ]
  },
  {
   "cell_type": "code",
   "execution_count": 24,
   "id": "65d65c5f",
   "metadata": {},
   "outputs": [
    {
     "name": "stdout",
     "output_type": "stream",
     "text": [
      "Error: Negative number found: -4\n",
      "Execution completed!\n"
     ]
    }
   ],
   "source": [
    "check_for_negatives([1,2,-4,3])"
   ]
  },
  {
   "cell_type": "markdown",
   "id": "90b397ec",
   "metadata": {},
   "source": [
    "Observe as soon as a negative number is found due to the `exception` raised it goes to the `except` block and the remaining `print` statement in try block is not executed. "
   ]
  },
  {
   "cell_type": "code",
   "execution_count": 25,
   "id": "b90c50f3",
   "metadata": {},
   "outputs": [
    {
     "name": "stdout",
     "output_type": "stream",
     "text": [
      "No negative numbers found.\n",
      "Execution completed!\n"
     ]
    }
   ],
   "source": [
    "check_for_negatives([1,2,4,3])"
   ]
  },
  {
   "cell_type": "markdown",
   "id": "643ea304",
   "metadata": {},
   "source": [
    "### Assignment 9: Exception Handling in Function Calls\n",
    "\n",
    "Write a function that calls another function which may raise an exception. Use try, except, and finally blocks to handle the exception and print an appropriate message."
   ]
  },
  {
   "cell_type": "code",
   "execution_count": 26,
   "id": "34fd0513",
   "metadata": {},
   "outputs": [],
   "source": [
    "def risky_function():\n",
    "    raise ValueError(\"An error occured in risky function.\")\n",
    "\n",
    "def safe_function():\n",
    "    try:\n",
    "        risky_function()\n",
    "    except ValueError as e:\n",
    "        print(f\"Error: {e}\")\n",
    "    finally:\n",
    "        print(\"Execution completed.\")"
   ]
  },
  {
   "cell_type": "code",
   "execution_count": 27,
   "id": "0d759d51",
   "metadata": {},
   "outputs": [
    {
     "name": "stdout",
     "output_type": "stream",
     "text": [
      "Error: An error occured in risky function.\n",
      "Execution completed.\n"
     ]
    }
   ],
   "source": [
    "safe_function()"
   ]
  },
  {
   "cell_type": "markdown",
   "id": "773c2013",
   "metadata": {},
   "source": [
    "### Assignment 10: Exception Handling in Class Methods\n",
    "\n",
    "Define a class with a method that performs a division operation. Use try, except, and finally blocks within the method to handle division by zero and print an appropriate message."
   ]
  },
  {
   "cell_type": "code",
   "execution_count": 28,
   "id": "a37b44ca",
   "metadata": {},
   "outputs": [],
   "source": [
    "class Calculator:\n",
    "    def divide(self,a,b):\n",
    "        try:\n",
    "            result = a/b\n",
    "        except ZeroDivisionError as e:\n",
    "            print(f\"Error is: {e}\")\n",
    "            result = None\n",
    "        except Exception as ex:\n",
    "            print(f\"Error is: {ex}\")\n",
    "            result = None\n",
    "        finally:\n",
    "            print(\"Execution completed.\")\n",
    "        return(f\"Result of {a}/{b} is {result}.\")"
   ]
  },
  {
   "cell_type": "code",
   "execution_count": 29,
   "id": "8b7c3852",
   "metadata": {},
   "outputs": [],
   "source": [
    "calc = Calculator()"
   ]
  },
  {
   "cell_type": "code",
   "execution_count": 30,
   "id": "b0c602e3",
   "metadata": {},
   "outputs": [
    {
     "name": "stdout",
     "output_type": "stream",
     "text": [
      "Execution completed.\n"
     ]
    },
    {
     "data": {
      "text/plain": [
       "'Result of 10/4 is 2.5.'"
      ]
     },
     "execution_count": 30,
     "metadata": {},
     "output_type": "execute_result"
    }
   ],
   "source": [
    "calc.divide(10,4)"
   ]
  },
  {
   "cell_type": "code",
   "execution_count": 31,
   "id": "d4095eaf",
   "metadata": {},
   "outputs": [
    {
     "name": "stdout",
     "output_type": "stream",
     "text": [
      "Error is: division by zero\n",
      "Execution completed.\n"
     ]
    },
    {
     "data": {
      "text/plain": [
       "'Result of 10/0 is None.'"
      ]
     },
     "execution_count": 31,
     "metadata": {},
     "output_type": "execute_result"
    }
   ],
   "source": [
    "calc.divide(10,0)"
   ]
  },
  {
   "cell_type": "code",
   "execution_count": 32,
   "id": "bc2a8b56",
   "metadata": {},
   "outputs": [
    {
     "name": "stdout",
     "output_type": "stream",
     "text": [
      "Error is: unsupported operand type(s) for /: 'int' and 'str'\n",
      "Execution completed.\n"
     ]
    },
    {
     "data": {
      "text/plain": [
       "'Result of 10/AB is None.'"
      ]
     },
     "execution_count": 32,
     "metadata": {},
     "output_type": "execute_result"
    }
   ],
   "source": [
    "calc.divide(10,'AB')"
   ]
  }
 ],
 "metadata": {
  "kernelspec": {
   "display_name": "Python 3",
   "language": "python",
   "name": "python3"
  },
  "language_info": {
   "codemirror_mode": {
    "name": "ipython",
    "version": 3
   },
   "file_extension": ".py",
   "mimetype": "text/x-python",
   "name": "python",
   "nbconvert_exporter": "python",
   "pygments_lexer": "ipython3",
   "version": "3.10.0"
  }
 },
 "nbformat": 4,
 "nbformat_minor": 5
}
